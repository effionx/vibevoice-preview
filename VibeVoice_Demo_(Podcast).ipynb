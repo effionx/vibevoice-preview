{
  "cells": [
    {
      "cell_type": "code",
      "execution_count": null,
      "metadata": {
        "id": "tsaYeKqI_ISC"
      },
      "outputs": [],
      "source": [
        "# @title 1. Setup Environment\n",
        "import os\n",
        "print(\"🚀 Cloning the VibeVoice repository...\")\n",
        "if not os.path.exists('/content/VibeVoice'):\n",
        "    !git clone https://github.com/NeuralFalconYT/VibeVoice.git\n",
        "else:\n",
        "    print(\"✅ Repository already exists.\")\n",
        "\n",
        "print(\"\\n📦 Installing dependencies...\")\n",
        "# Install all required packages\n",
        "!pip install torch accelerate transformers==4.51.3 diffusers tqdm numpy scipy librosa ml-collections absl-py gradio av aiortc pydub click --quiet\n",
        "\n",
        "print(\"\\n✅ Environment is ready.\")"
      ]
    },
    {
      "cell_type": "code",
      "execution_count": null,
      "metadata": {
        "id": "1cv40EN2RUZd"
      },
      "outputs": [],
      "source": [
        "# @title 2. Launch the VibeVoice App\n",
        "# Change to the correct directory so the script can find its files\n",
        "%cd /content/VibeVoice\n",
        "\n",
        "print(\"\\n🚀 Launching the Gradio App...\")\n",
        "print(\"The model will be downloaded automatically by the script on the first run.\")\n",
        "\n",
        "# Run the script as a module (-m) which correctly handles Python's import paths.\n",
        "!python -m demo.colab --share --model_path \"microsoft/VibeVoice-1.5B\" #change to \"vibevoice/VibeVoice-7B\" for 7b, needs 15GB+ VRAM"
      ]
    }
  ],
  "metadata": {
    "accelerator": "GPU",
    "colab": {
      "gpuType": "T4",
      "provenance": []
    },
    "kernelspec": {
      "display_name": "Python 3",
      "name": "python3"
    },
    "language_info": {
      "name": "python"
    }
  },
  "nbformat": 4,
  "nbformat_minor": 0
}